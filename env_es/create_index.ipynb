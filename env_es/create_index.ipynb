{
 "cells": [
  {
   "cell_type": "markdown",
   "id": "8df40e93",
   "metadata": {},
   "source": [
    "## Connection to ElasticSearch"
   ]
  },
  {
   "cell_type": "code",
   "execution_count": 5,
   "id": "fd088049",
   "metadata": {},
   "outputs": [],
   "source": [
    "from pprint import pprint\n",
    "from elasticsearch import Elasticsearch\n",
    "from elastic_transport import TransportError"
   ]
  },
  {
   "cell_type": "code",
   "execution_count": 6,
   "id": "1d7f0899",
   "metadata": {},
   "outputs": [
    {
     "name": "stdout",
     "output_type": "stream",
     "text": [
      "True\n"
     ]
    }
   ],
   "source": [
    "from elasticsearch import Elasticsearch\n",
    "\n",
    "es = Elasticsearch(\n",
    "    \"http://localhost:9200\",\n",
    "    headers={\n",
    "        \"Content-Type\": \"application/json\",\n",
    "        \"Accept\": \"application/json\"\n",
    "    }\n",
    ")\n",
    "\n",
    "print(es.ping())"
   ]
  },
  {
   "cell_type": "code",
   "execution_count": 15,
   "id": "7a19cebe",
   "metadata": {},
   "outputs": [
    {
     "name": "stdout",
     "output_type": "stream",
     "text": [
      "{'cluster_name': 'docker-cluster',\n",
      " 'cluster_uuid': 'kdgaRXuGS8yh7rxokb9Jwg',\n",
      " 'name': 'eb3cb2c67bb9',\n",
      " 'tagline': 'You Know, for Search',\n",
      " 'version': {'build_date': '2024-08-05T10:05:34.233336849Z',\n",
      "             'build_flavor': 'default',\n",
      "             'build_hash': '1a77947f34deddb41af25e6f0ddb8e830159c179',\n",
      "             'build_snapshot': False,\n",
      "             'build_type': 'docker',\n",
      "             'lucene_version': '9.11.1',\n",
      "             'minimum_index_compatibility_version': '7.0.0',\n",
      "             'minimum_wire_compatibility_version': '7.17.0',\n",
      "             'number': '8.15.0'}}\n"
     ]
    }
   ],
   "source": [
    "client_info = es.info()\n",
    "pprint(client_info.body)"
   ]
  },
  {
   "cell_type": "markdown",
   "id": "42f395e1",
   "metadata": {},
   "source": [
    "## Create index"
   ]
  },
  {
   "cell_type": "code",
   "execution_count": 14,
   "id": "090f54aa",
   "metadata": {},
   "outputs": [
    {
     "data": {
      "text/plain": [
       "ObjectApiResponse({'acknowledged': True, 'shards_acknowledged': True, 'index': 'my_index'})"
      ]
     },
     "execution_count": 14,
     "metadata": {},
     "output_type": "execute_result"
    }
   ],
   "source": [
    "es.indices.delete(index='my_index', ignore_unavailable=True)\n",
    "es.indices.create(index='my_index', settings={\n",
    "    'index': {'number_of_shards': 1,\n",
    "              'number_of_replicas': 1,}\n",
    "})"
   ]
  },
  {
   "cell_type": "markdown",
   "id": "faa5848a",
   "metadata": {},
   "source": [
    "## Inserting Documents"
   ]
  },
  {
   "cell_type": "code",
   "execution_count": 17,
   "id": "d794961e",
   "metadata": {},
   "outputs": [],
   "source": [
    "document = {\n",
    "    'title': 'Elasticsearch Basics',\n",
    "    'created_on': '2025-04-22',\n",
    "    'author': 'John Doe',\n",
    "    'content': 'This is a basic introduction to Elasticsearch.',\n",
    "    'tags': ['elasticsearch', 'basics', 'introduction']\n",
    "}"
   ]
  },
  {
   "cell_type": "code",
   "execution_count": null,
   "id": "535bfd09",
   "metadata": {},
   "outputs": [
    {
     "name": "stdout",
     "output_type": "stream",
     "text": [
      "{'_index': 'my_documents', '_id': 'b02ZX5YBSI5_NC425mvb', '_version': 1, 'result': 'created', '_shards': {'total': 2, 'successful': 1, 'failed': 0}, '_seq_no': 0, '_primary_term': 1}\n"
     ]
    }
   ],
   "source": [
    "response = es.index(index='my_documents', body=document)\n",
    "print(response)"
   ]
  },
  {
   "cell_type": "code",
   "execution_count": 20,
   "id": "1c487991",
   "metadata": {},
   "outputs": [
    {
     "data": {
      "text/plain": [
       "{'_index': 'my_documents',\n",
       " '_id': 'b02ZX5YBSI5_NC425mvb',\n",
       " '_version': 1,\n",
       " 'result': 'created',\n",
       " '_shards': {'total': 2, 'successful': 1, 'failed': 0},\n",
       " '_seq_no': 0,\n",
       " '_primary_term': 1}"
      ]
     },
     "execution_count": 20,
     "metadata": {},
     "output_type": "execute_result"
    }
   ],
   "source": [
    "response.body"
   ]
  },
  {
   "cell_type": "code",
   "execution_count": 21,
   "id": "b5216afe",
   "metadata": {},
   "outputs": [
    {
     "name": "stdout",
     "output_type": "stream",
     "text": [
      "{'author': {'fields': {'keyword': {'ignore_above': 256, 'type': 'keyword'}},\n",
      "            'type': 'text'},\n",
      " 'content': {'fields': {'keyword': {'ignore_above': 256, 'type': 'keyword'}},\n",
      "             'type': 'text'},\n",
      " 'created_on': {'type': 'date'},\n",
      " 'tags': {'fields': {'keyword': {'ignore_above': 256, 'type': 'keyword'}},\n",
      "          'type': 'text'},\n",
      " 'title': {'fields': {'keyword': {'ignore_above': 256, 'type': 'keyword'}},\n",
      "           'type': 'text'}}\n"
     ]
    }
   ],
   "source": [
    "index_mapping = es.indices.get_mapping(index='my_documents')\n",
    "pprint(index_mapping['my_documents']['mappings']['properties'])"
   ]
  },
  {
   "cell_type": "code",
   "execution_count": 24,
   "id": "b91bc326",
   "metadata": {},
   "outputs": [
    {
     "name": "stdout",
     "output_type": "stream",
     "text": [
      "ObjectApiResponse({'my_documents': {'mappings': {'properties': {'author': {'type': 'text', 'fields': {'keyword': {'type': 'keyword', 'ignore_above': 256}}}, 'content': {'type': 'text', 'fields': {'keyword': {'type': 'keyword', 'ignore_above': 256}}}, 'created_on': {'type': 'date'}, 'tags': {'type': 'text', 'fields': {'keyword': {'type': 'keyword', 'ignore_above': 256}}}, 'title': {'type': 'text', 'fields': {'keyword': {'type': 'keyword', 'ignore_above': 256}}}}}}})\n"
     ]
    }
   ],
   "source": [
    "pprint(index_mapping)"
   ]
  },
  {
   "cell_type": "markdown",
   "id": "0abdac1e",
   "metadata": {},
   "source": [
    "## Field data types"
   ]
  },
  {
   "cell_type": "code",
   "execution_count": 27,
   "id": "9d9b601a",
   "metadata": {},
   "outputs": [
    {
     "data": {
      "text/plain": [
       "ObjectApiResponse({'acknowledged': True, 'shards_acknowledged': True, 'index': 'binary_index'})"
      ]
     },
     "execution_count": 27,
     "metadata": {},
     "output_type": "execute_result"
    }
   ],
   "source": [
    "es.indices.delete(index='binary_index', ignore_unavailable=True)\n",
    "es.indices.create(\n",
    "    index='binary_index',\n",
    "    mappings={\n",
    "        'properties':{\n",
    "            'image_data':{\n",
    "                'type': 'binary'\n",
    "            }\n",
    "        }\n",
    "    }\n",
    ")"
   ]
  },
  {
   "cell_type": "code",
   "execution_count": 29,
   "id": "01276baf",
   "metadata": {},
   "outputs": [
    {
     "data": {
      "text/plain": [
       "'iVBORw0KGgoAAAANSUhEUgAAAgAAAADkCAIAAABhUAsQAAAACXBIWXMAAAsTAAALEwEAmpwYAAAgAElEQVR4nOx9eXxURbb/qbq3'"
      ]
     },
     "execution_count": 29,
     "metadata": {},
     "output_type": "execute_result"
    }
   ],
   "source": [
    "import base64\n",
    "\n",
    "with open('elasticsearch_datatypes.png', 'rb') as image_file:\n",
    "    image_bytes = image_file.read()\n",
    "    image_base64 = base64.b64encode(image_bytes).decode('utf-8')    \n",
    "\n",
    "image_base64[:100] "
   ]
  },
  {
   "cell_type": "code",
   "execution_count": 30,
   "id": "dcee2d48",
   "metadata": {},
   "outputs": [
    {
     "data": {
      "text/plain": [
       "75068"
      ]
     },
     "execution_count": 30,
     "metadata": {},
     "output_type": "execute_result"
    }
   ],
   "source": [
    "len(image_base64)"
   ]
  },
  {
   "cell_type": "code",
   "execution_count": 32,
   "id": "80c6aa7f",
   "metadata": {},
   "outputs": [
    {
     "name": "stdout",
     "output_type": "stream",
     "text": [
      "{'_index': 'binary_index', '_id': 'cU2rX5YBSI5_NC42HWsO', '_version': 1, 'result': 'created', '_shards': {'total': 2, 'successful': 1, 'failed': 0}, '_seq_no': 1, '_primary_term': 1}\n"
     ]
    }
   ],
   "source": [
    "document = {\n",
    "    'image_data': image_base64\n",
    "}\n",
    "\n",
    "response = es.index(index='binary_index', body=document)\n",
    "print(response.body)"
   ]
  },
  {
   "cell_type": "markdown",
   "id": "e81ff4d9",
   "metadata": {},
   "source": [
    "## Object Types"
   ]
  },
  {
   "cell_type": "code",
   "execution_count": 34,
   "id": "76d422cd",
   "metadata": {},
   "outputs": [
    {
     "data": {
      "text/plain": [
       "ObjectApiResponse({'acknowledged': True, 'shards_acknowledged': True, 'index': 'object_index'})"
      ]
     },
     "execution_count": 34,
     "metadata": {},
     "output_type": "execute_result"
    }
   ],
   "source": [
    "es.indices.delete(index='object_index', ignore_unavailable=True)\n",
    "es.indices.create(\n",
    "    index = 'object_index',\n",
    "    mappings = {\n",
    "        'properties' : {\n",
    "            'author': {\n",
    "                'properties': {\n",
    "                    'first_name': {\n",
    "                        'type': 'text'\n",
    "                    },\n",
    "                    'last_name': {\n",
    "                        'type': 'text'\n",
    "                    }\n",
    "                }\n",
    "            }\n",
    "        }\n",
    "    }\n",
    ")"
   ]
  },
  {
   "cell_type": "code",
   "execution_count": 35,
   "id": "57e3d5c6",
   "metadata": {},
   "outputs": [],
   "source": [
    "document = {\n",
    "    'author':{\n",
    "        'first_name': 'Ei Ei Ei ',\n",
    "        'last_name': 'Mael'\n",
    "    }\n",
    "}"
   ]
  },
  {
   "cell_type": "code",
   "execution_count": 37,
   "id": "03806b59",
   "metadata": {},
   "outputs": [
    {
     "data": {
      "text/plain": [
       "ObjectApiResponse({'_index': 'object_index', '_id': 'c02zX5YBSI5_NC42FGuo', '_version': 1, 'result': 'created', '_shards': {'total': 2, 'successful': 1, 'failed': 0}, '_seq_no': 1, '_primary_term': 1})"
      ]
     },
     "execution_count": 37,
     "metadata": {},
     "output_type": "execute_result"
    }
   ],
   "source": [
    "response = es.index(index='object_index', body=document)\n",
    "response"
   ]
  },
  {
   "cell_type": "markdown",
   "id": "c265edf7",
   "metadata": {},
   "source": [
    "## Text search types"
   ]
  },
  {
   "cell_type": "code",
   "execution_count": 38,
   "id": "a9456f60",
   "metadata": {},
   "outputs": [
    {
     "data": {
      "text/plain": [
       "ObjectApiResponse({'acknowledged': True, 'shards_acknowledged': True, 'index': 'text_index'})"
      ]
     },
     "execution_count": 38,
     "metadata": {},
     "output_type": "execute_result"
    }
   ],
   "source": [
    "es.indices.delete(index='text_index', ignore_unavailable=True)\n",
    "es.indices.create(\n",
    "    index='text_index',\n",
    "    mappings={\n",
    "        'properties': {\n",
    "            'email_body': {\n",
    "                'type': 'text'\n",
    "            }\n",
    "        }\n",
    "    }\n",
    ")\n"
   ]
  },
  {
   "cell_type": "code",
   "execution_count": 40,
   "id": "3af83880",
   "metadata": {},
   "outputs": [
    {
     "name": "stdout",
     "output_type": "stream",
     "text": [
      "{'_index': 'text_index', '_id': 'dE24X5YBSI5_NC42V2sV', '_version': 1, 'result': 'created', '_shards': {'total': 2, 'successful': 1, 'failed': 0}, '_seq_no': 0, '_primary_term': 1}\n"
     ]
    }
   ],
   "source": [
    "document = {\n",
    "    'email_body': 'This is a test email body. It contains some text data that we want to index in Elasticsearch.'\n",
    "}\n",
    "\n",
    "response = es.index(index='text_index', body=document)\n",
    "print(response.body)"
   ]
  },
  {
   "cell_type": "code",
   "execution_count": null,
   "id": "55450ac7",
   "metadata": {},
   "outputs": [],
   "source": []
  },
  {
   "cell_type": "code",
   "execution_count": null,
   "id": "e7d2145f",
   "metadata": {},
   "outputs": [],
   "source": []
  }
 ],
 "metadata": {
  "kernelspec": {
   "display_name": "env_es",
   "language": "python",
   "name": "python3"
  },
  "language_info": {
   "codemirror_mode": {
    "name": "ipython",
    "version": 3
   },
   "file_extension": ".py",
   "mimetype": "text/x-python",
   "name": "python",
   "nbconvert_exporter": "python",
   "pygments_lexer": "ipython3",
   "version": "3.9.6"
  }
 },
 "nbformat": 4,
 "nbformat_minor": 5
}
